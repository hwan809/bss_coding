{
 "cells": [
  {
   "attachments": {},
   "cell_type": "markdown",
   "id": "7306cd6a",
   "metadata": {},
   "source": [
    "# 4/7\n",
    "\n",
    "## 조건반복문\n",
    "\n",
    "### 형식\n",
    "```py\n",
    "while 조건:  \n",
    "    반복할 문장 \n",
    "else:  \n",
    "    반복 처리 후의 처리\n",
    "```\n",
    "\n",
    "또는\n",
    "\n",
    "```py\n",
    "while True:\n",
    "    # ~\n",
    "    break:\n",
    "        반복문 종료\n",
    "    continue:\n",
    "        반복문으로 다시 복귀"
   ]
  },
  {
   "cell_type": "code",
   "execution_count": 12,
   "id": "3b3afdf9",
   "metadata": {},
   "outputs": [
    {
     "name": "stdout",
     "output_type": "stream",
     "text": [
      "1\n",
      "2\n",
      "3\n",
      "4\n",
      "5\n",
      "The end\n"
     ]
    }
   ],
   "source": [
    "# 1105 김환 (과제7)\n",
    "n = int(input('max : '))\n",
    "counter = 1\n",
    "while counter <= n:\n",
    "    print(counter)\n",
    "    counter += 1\n",
    "\n",
    "print('The end')"
   ]
  },
  {
   "cell_type": "code",
   "execution_count": 2,
   "id": "c82aff86",
   "metadata": {},
   "outputs": [
    {
     "name": "stdout",
     "output_type": "stream",
     "text": [
      "sum:1\n"
     ]
    }
   ],
   "source": [
    "#1105 김환 (과제8)\n",
    "sum = 0\n",
    "while True:\n",
    "    n = int(input('number:'))\n",
    "    if n == 0:\n",
    "        print(f'sum:{sum}')\n",
    "        break\n",
    "    \n",
    "    if n % 3 == 0:\n",
    "        continue\n",
    "    else:\n",
    "        sum += n"
   ]
  },
  {
   "attachments": {},
   "cell_type": "markdown",
   "id": "da9036df",
   "metadata": {},
   "source": [
    "# 4/14\n",
    "\n",
    "## 범위반복문\n",
    "```py\n",
    "while i < MyMax:\n",
    "    i += 1\n",
    "    print(i)\n",
    "\n",
    "# range 함수로 표현\n",
    "for i in range(MyMax):\n",
    "    print(i)\n",
    "\n",
    "for i in (5, 4, 3, 2, 1) # 또는\n",
    "for i in (5, 0, -1):\n",
    "```"
   ]
  },
  {
   "cell_type": "code",
   "execution_count": 5,
   "id": "2be99279",
   "metadata": {},
   "outputs": [
    {
     "name": "stdout",
     "output_type": "stream",
     "text": [
      "1\n"
     ]
    }
   ],
   "source": [
    "#1105 김환 (과제9)\n",
    "n = int(input('number:'))\n",
    "count = 0\n",
    "for i in range(1, n + 1):\n",
    "    if n % i == 0:\n",
    "        count += 1\n",
    "\n",
    "print(count)"
   ]
  },
  {
   "attachments": {},
   "cell_type": "markdown",
   "id": "9aaad4d4",
   "metadata": {},
   "source": [
    "## 리스트\n",
    "\n",
    "```py\n",
    "x = list()\n",
    "\n",
    "## 리스트 2차원 배열\n",
    "y = [1, 2, 3, 'abc', [5, 6, 7]]\n",
    "\n",
    "y[4][2] # 7\n",
    "y[3][0] # a\n",
    "```"
   ]
  },
  {
   "cell_type": "code",
   "execution_count": 19,
   "id": "171c8bb8",
   "metadata": {},
   "outputs": [
    {
     "name": "stdout",
     "output_type": "stream",
     "text": [
      "1단 : 1 * 1 = 01 1 * 2 = 02 1 * 3 = 03 1 * 4 = 04 1 * 5 = 05 1 * 6 = 06 1 * 7 = 07 1 * 8 = 08 1 * 9 = 09 \n",
      "2단 : 2 * 1 = 02 2 * 2 = 04 2 * 3 = 06 2 * 4 = 08 2 * 5 = 10 2 * 6 = 12 2 * 7 = 14 2 * 8 = 16 2 * 9 = 18 \n",
      "3단 : 3 * 1 = 03 3 * 2 = 06 3 * 3 = 09 3 * 4 = 12 3 * 5 = 15 3 * 6 = 18 3 * 7 = 21 3 * 8 = 24 3 * 9 = 27 \n",
      "4단 : 4 * 1 = 04 4 * 2 = 08 4 * 3 = 12 4 * 4 = 16 4 * 5 = 20 4 * 6 = 24 4 * 7 = 28 4 * 8 = 32 4 * 9 = 36 \n",
      "5단 : 5 * 1 = 05 5 * 2 = 10 5 * 3 = 15 5 * 4 = 20 5 * 5 = 25 5 * 6 = 30 5 * 7 = 35 5 * 8 = 40 5 * 9 = 45 \n",
      "6단 : 6 * 1 = 06 6 * 2 = 12 6 * 3 = 18 6 * 4 = 24 6 * 5 = 30 6 * 6 = 36 6 * 7 = 42 6 * 8 = 48 6 * 9 = 54 \n",
      "7단 : 7 * 1 = 07 7 * 2 = 14 7 * 3 = 21 7 * 4 = 28 7 * 5 = 35 7 * 6 = 42 7 * 7 = 49 7 * 8 = 56 7 * 9 = 63 \n",
      "8단 : 8 * 1 = 08 8 * 2 = 16 8 * 3 = 24 8 * 4 = 32 8 * 5 = 40 8 * 6 = 48 8 * 7 = 56 8 * 8 = 64 8 * 9 = 72 \n",
      "9단 : 9 * 1 = 09 9 * 2 = 18 9 * 3 = 27 9 * 4 = 36 9 * 5 = 45 9 * 6 = 54 9 * 7 = 63 9 * 8 = 72 9 * 9 = 81 \n"
     ]
    }
   ],
   "source": [
    "#예제 - 구구단\n",
    "for i in range(1, 9 + 1):\n",
    "    print(f'{i}단 : ', end='')\n",
    "    for j in range(1, 9 + 1):\n",
    "        print(f'{i} * {j} = {i * j:02d}', end=' ')\n",
    "\n",
    "    print('')\n",
    "    "
   ]
  },
  {
   "cell_type": "code",
   "execution_count": null,
   "id": "1ef40bc1",
   "metadata": {},
   "outputs": [],
   "source": [
    "#1105 김환 (과제10)\n",
    "while True:\n",
    "    n = int(input('rows:'))\n",
    "\n",
    "    if n == 0:\n",
    "        break\n",
    "    elif n > 0:\n",
    "        for i in range(1, n + 1):\n",
    "            print('*' * i)\n",
    "    elif n < 0:\n",
    "        for i in range(-n, 0, -1):\n",
    "            print('*' * i)"
   ]
  }
 ],
 "metadata": {
  "kernelspec": {
   "display_name": "Python 3 (ipykernel)",
   "language": "python",
   "name": "python3"
  },
  "language_info": {
   "codemirror_mode": {
    "name": "ipython",
    "version": 3
   },
   "file_extension": ".py",
   "mimetype": "text/x-python",
   "name": "python",
   "nbconvert_exporter": "python",
   "pygments_lexer": "ipython3",
   "version": "3.11.2"
  }
 },
 "nbformat": 4,
 "nbformat_minor": 5
}

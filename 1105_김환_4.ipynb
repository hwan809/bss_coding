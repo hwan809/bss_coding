{
 "cells": [
  {
   "attachments": {},
   "cell_type": "markdown",
   "id": "7306cd6a",
   "metadata": {},
   "source": [
    "# 4/7\n",
    "\n",
    "## 조건반복문\n",
    "\n",
    "### 형식\n",
    "```py\n",
    "while 조건:  \n",
    "    반복할 문장 \n",
    "else:  \n",
    "    반복 처리 후의 처리\n",
    "```\n",
    "\n",
    "또는\n",
    "\n",
    "```py\n",
    "while True:\n",
    "    # ~\n",
    "    break:\n",
    "        반복문 종료\n",
    "    continue:\n",
    "        반복문으로 다시 복귀"
   ]
  },
  {
   "cell_type": "code",
   "execution_count": 12,
   "id": "3b3afdf9",
   "metadata": {},
   "outputs": [
    {
     "name": "stdout",
     "output_type": "stream",
     "text": [
      "1\n",
      "2\n",
      "3\n",
      "4\n",
      "5\n",
      "The end\n"
     ]
    }
   ],
   "source": [
    "# 1105 김환 (과제7)\n",
    "n = int(input('max : '))\n",
    "counter = 1\n",
    "while counter <= n:\n",
    "    print(counter)\n",
    "    counter += 1\n",
    "\n",
    "print('The end')"
   ]
  },
  {
   "cell_type": "code",
   "execution_count": 15,
   "id": "c82aff86",
   "metadata": {},
   "outputs": [
    {
     "ename": "ValueError",
     "evalue": "invalid literal for int() with base 10: '0-'",
     "output_type": "error",
     "traceback": [
      "\u001b[1;31m---------------------------------------------------------------------------\u001b[0m",
      "\u001b[1;31mValueError\u001b[0m                                Traceback (most recent call last)",
      "Cell \u001b[1;32mIn[15], line 3\u001b[0m\n\u001b[0;32m      1\u001b[0m \u001b[39msum\u001b[39m \u001b[39m=\u001b[39m \u001b[39m0\u001b[39m\n\u001b[0;32m      2\u001b[0m \u001b[39mwhile\u001b[39;00m \u001b[39mTrue\u001b[39;00m:\n\u001b[1;32m----> 3\u001b[0m     n \u001b[39m=\u001b[39m \u001b[39mint\u001b[39;49m(\u001b[39minput\u001b[39;49m())\n\u001b[0;32m      4\u001b[0m     \u001b[39mif\u001b[39;00m n \u001b[39m==\u001b[39m \u001b[39m0\u001b[39m:\n\u001b[0;32m      5\u001b[0m         \u001b[39mprint\u001b[39m(\u001b[39msum\u001b[39m)\n",
      "\u001b[1;31mValueError\u001b[0m: invalid literal for int() with base 10: '0-'"
     ]
    }
   ],
   "source": [
    "#1105 김환 (과제8)\n",
    "sum = 0\n",
    "while True:\n",
    "    n = int(input())\n",
    "    if n == 0:\n",
    "        print(sum)\n",
    "        break\n",
    "    \n",
    "    if n % 3 == 0:\n",
    "        continue\n",
    "    else:\n",
    "        sum += n"
   ]
  }
 ],
 "metadata": {
  "kernelspec": {
   "display_name": "Python 3 (ipykernel)",
   "language": "python",
   "name": "python3"
  },
  "language_info": {
   "codemirror_mode": {
    "name": "ipython",
    "version": 3
   },
   "file_extension": ".py",
   "mimetype": "text/x-python",
   "name": "python",
   "nbconvert_exporter": "python",
   "pygments_lexer": "ipython3",
   "version": "3.11.2"
  }
 },
 "nbformat": 4,
 "nbformat_minor": 5
}

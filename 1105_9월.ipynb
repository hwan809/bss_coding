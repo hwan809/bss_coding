{
 "cells": [
  {
   "cell_type": "markdown",
   "id": "edf0ff29",
   "metadata": {},
   "source": [
    "# 8/25\n",
    "### eval : 문자열을 코드로 실행\n",
    "> eval(input('수식 : '))  \n",
    "> $ 수식 : 8 ** 2  \n",
    "> $ 64\n",
    "\n",
    "### int(base) : 진법 변환\n",
    "> int('1110', 2)  \n",
    "> $ 14"
   ]
  },
  {
   "cell_type": "code",
   "execution_count": null,
   "id": "8c9af617",
   "metadata": {},
   "outputs": [],
   "source": [
    "# 과제1\n",
    "\n",
    "y, m, d = input().split('/')\n",
    "\n",
    "print(f'{y}-{m}-{d}')\n",
    "print(f'{str(y)[2:4]}-{m:0>2}-{d.zfill(2)}')"
   ]
  },
  {
   "cell_type": "code",
   "execution_count": 24,
   "id": "7e1ea21b",
   "metadata": {},
   "outputs": [
    {
     "name": "stdout",
     "output_type": "stream",
     "text": [
      "규칙에 어긋납니다 : \n",
      "    - 숫자가 포함되어야 합니다.\n",
      "    - 10자리 이상이여야 합니다.\n",
      "규칙에 어긋납니다 : \n",
      "    - 대문자가 포함되어야 합니다.\n",
      "    - 숫자가 포함되어야 합니다.\n",
      "    - 10자리 이상이여야 합니다.\n",
      "규칙에 어긋납니다 : \n",
      "    - 대문자가 포함되어야 합니다.\n",
      "    - 숫자가 포함되어야 합니다.\n",
      "    - 10자리 이상이여야 합니다.\n",
      "규칙에 어긋납니다 : \n",
      "    - 10자리 이상이여야 합니다.\n",
      "축하합니다! 당신의 비밀번호 : SDFLa2394xcv\n"
     ]
    }
   ],
   "source": [
    "# 과제2\n",
    "class PasswordChecker():\n",
    "    def __init__(self):\n",
    "        self.checkers = []\n",
    "\n",
    "    def add_checker(self, func, error_message):\n",
    "        self.checkers.append((func, error_message))\n",
    "\n",
    "    def check_password(self, password):\n",
    "        error_messages = []\n",
    "\n",
    "        for checker, error_message in self.checkers:\n",
    "            if not checker(password):\n",
    "                error_messages.append(error_message)\n",
    "                \n",
    "        if not error_messages:\n",
    "            return True\n",
    "        \n",
    "        return error_messages\n",
    "\n",
    "checker = PasswordChecker()\n",
    "\n",
    "checker.add_checker(lambda s: any(x.isupper() for x in s), '대문자가 포함되어야 합니다.')\n",
    "checker.add_checker(lambda s: any(x.islower() for x in s), '소문자가 포함되어야 합니다.')\n",
    "checker.add_checker(lambda s: any(x.isdigit() for x in s), '숫자가 포함되어야 합니다.')\n",
    "checker.add_checker(lambda s: len(s) >= 10, '10자리 이상이여야 합니다.')\n",
    "\n",
    "while True:\n",
    "    password = input()\n",
    "    error_messages = checker.check_password(password)\n",
    "\n",
    "    if type(error_messages) == list:\n",
    "        print('규칙에 어긋납니다 : ')\n",
    "\n",
    "        for message in error_messages:\n",
    "            print(f'    - {message}')\n",
    "\n",
    "        continue\n",
    "    \n",
    "    print(f'축하합니다! 당신의 비밀번호 : {password}')\n",
    "    break"
   ]
  }
 ],
 "metadata": {
  "kernelspec": {
   "display_name": "Python 3 (ipykernel)",
   "language": "python",
   "name": "python3"
  },
  "language_info": {
   "codemirror_mode": {
    "name": "ipython",
    "version": 3
   },
   "file_extension": ".py",
   "mimetype": "text/x-python",
   "name": "python",
   "nbconvert_exporter": "python",
   "pygments_lexer": "ipython3",
   "version": "3.11.2"
  }
 },
 "nbformat": 4,
 "nbformat_minor": 5
}

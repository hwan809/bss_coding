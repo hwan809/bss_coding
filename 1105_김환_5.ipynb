{
 "cells": [
  {
   "attachments": {},
   "cell_type": "markdown",
   "id": "7306cd6a",
   "metadata": {},
   "source": [
    "# 5/26\n",
    "\n",
    "## 리스트 인덱싱 (복습)\n",
    "\n",
    "### ex)\n",
    "```py\n",
    "lst = [123, 'asdf', 2134]\n",
    "type(lst1[1])\n",
    "# => <class 'str'>\n",
    "```\n",
    "\n",
    "### list 함수\n",
    "```py\n",
    "list('abcd')\n",
    "abcd\n",
    "# => ['a', 'b', 'c', 'd']\n",
    "```\n",
    "\n",
    "## class / object\n",
    "> class : 설계도, object : 물건\n",
    "\n",
    "## function define\n",
    "\n",
    "### ex)\n",
    "```py\n",
    "def my_str(a, b):\n",
    "    return (str(a) + str(b))\n",
    "\n",
    "c = my_str(10, 20)\n",
    "print(my_str(10, 20))\n",
    "# => 1020\n",
    "```\n",
    "\n",
    "## list method\n",
    "> method : class 내부에서 정의되는 함수\n",
    "\n",
    "### ex)\n",
    "```py\n",
    "l = list()\n",
    "l.append(1)\n",
    "l.count(1)\n",
    "```"
   ]
  },
  {
   "cell_type": "code",
   "execution_count": null,
   "id": "967b51fb",
   "metadata": {},
   "outputs": [],
   "source": []
  }
 ],
 "metadata": {
  "kernelspec": {
   "display_name": "Python 3 (ipykernel)",
   "language": "python",
   "name": "python3"
  },
  "language_info": {
   "codemirror_mode": {
    "name": "ipython",
    "version": 3
   },
   "file_extension": ".py",
   "mimetype": "text/x-python",
   "name": "python",
   "nbconvert_exporter": "python",
   "pygments_lexer": "ipython3",
   "version": "3.11.2"
  }
 },
 "nbformat": 4,
 "nbformat_minor": 5
}
